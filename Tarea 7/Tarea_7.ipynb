{
  "nbformat": 4,
  "nbformat_minor": 0,
  "metadata": {
    "colab": {
      "provenance": []
    },
    "kernelspec": {
      "name": "python3",
      "display_name": "Python 3"
    },
    "language_info": {
      "name": "python"
    }
  },
  "cells": [
    {
      "cell_type": "markdown",
      "source": [
        "**1)** Un nombre o palabra reservado en Python es aquella palabra que **ya tiene un significado predeterminado en Python** y que, por tanto, **no podemos usar como nombre para una variable, una función o cualquier otro objeto**, hacerlo violaría la sintaxis del lenguaje; podría hacerse si se modificara fundamentalmente la sintaxis del lenguaje, lo cual no sé si es posible."
      ],
      "metadata": {
        "id": "lIhAdb6HnCxw"
      }
    },
    {
      "cell_type": "markdown",
      "source": [
        "**2)** Haciendo una pequeña analogía con el lenguaje natural, podemos intuir qué clase de nombres **no** podemos asignar a nuestras variables; en el lenguaje natural, sería extraño el caso de una persona o lugar que tuviera como nombre \"o\", \"y\", \"entonces\", \"para\" o cosas similares. Así, en Python, que pretende parecerse al lenguaje inglés, algunas palabras reservadas son:\n",
        "\n",
        "\n",
        "*   and\n",
        "*   as\n",
        "*   if\n",
        "*   or"
      ],
      "metadata": {
        "id": "FowlJL8lp4kT"
      }
    },
    {
      "cell_type": "markdown",
      "source": [
        "**3.1.1)** Pasos para resolver el polinomio: $f(x) = 10x^2 + 2x$ despejando la variable $x$. <br>\n",
        "Paso 1: Factorizar el término en común, en este caso, $2x$. <br>\n",
        "$$f(x) = (2x)(5x + 1)$$\n",
        "Paso 2: Igualar a 0 el polinomio, al resolver para $f(x)=0$ hallamos las raíces.\n",
        "$$f(x)=(2x)(5x+1)=0$$\n",
        "Paso 3: Sabemos que para que un producto sea igual a 0, o bien un operando es 0, o bien el otro lo es. Así, igualamos $2x$ a 0.\n",
        "$$2x = 0$$\n",
        "$$\\therefore$$\n",
        "$$x = 0$$\n",
        "Paso 4: Igualamos el otro factor a 0.\n",
        "$$5x+1=0$$\n",
        "$$5x=-1$$\n",
        "$$\\therefore$$\n",
        "$$x= -\\frac{1}{5}$$"
      ],
      "metadata": {
        "id": "BuLVomak6F9J"
      }
    },
    {
      "cell_type": "markdown",
      "source": [
        "**3.1.2)** Pasos para resolver el polinomio: $f(x)=10x^2 + 2x$ haciendo uso de la fórmula general para las ecuaciones de segundo grado (o \"fórmula chicharronera\"): <br>\n",
        "Paso 1: Identificar los valores 'a', 'b' y 'c' en nuestra expresión. <br>\n",
        "$$f(x)=ax^2 + bx + c$$\n",
        "En este caso los valores son, respectivamente:\n",
        "$$a = 10$$\n",
        "$$b = 2$$\n",
        "$$c = 0$$\n",
        "Posteriormente, introducir los valores en la siguiente expresión:\n",
        "$$x = \\frac{-b \\pm \\sqrt(b^2 - 4ac)}{2a}$$\n",
        "Así, las soluciones son:\n",
        "$$x = \\frac{-2 \\pm \\sqrt(2^2 - 4(10)(0))}{2(10)}$$ <br>\n",
        "$$x = \\frac{-2 \\pm \\sqrt(2^2 - 0)}{20}$$ <br>\n",
        "$$x = \\frac{-2 \\pm \\sqrt(2^2)}{20}$$ <br>\n",
        "$$x = \\frac{-2 \\pm 2}{20}$$ <br>\n",
        "Valor 1:\n",
        "$$x_1=\\frac{-2 + 2}{20}$$ <br>\n",
        "$$x_1=\\frac{0}{20}$$ <br>\n",
        "$$x_1=0$$ <br>\n",
        "Valor 2:\n",
        "$$x_1=\\frac{-2 - 2}{20}$$ <br>\n",
        "$$x_1=\\frac{-4}{20}$$ <br>\n",
        "$$x_1=-\\frac{1}{5}$$ <br>"
      ],
      "metadata": {
        "id": "8xPE1GjwHG5w"
      }
    },
    {
      "cell_type": "code",
      "source": [
        "#3.2)\n",
        "import math\n",
        "def ComprobaciónRaices(a, b, c):\n",
        "  if a == 10 and b == 2 and c == 0:\n",
        "    print(\"Soluciones correctas\")\n",
        "  else:\n",
        "    print(\"Soluciones incorrectas\")\n",
        "\n",
        "ComprobaciónRaices(10, 2, 7)"
      ],
      "metadata": {
        "colab": {
          "base_uri": "https://localhost:8080/"
        },
        "id": "t29NlDefKl4o",
        "outputId": "00e331fc-5eba-46d9-b517-73e5e896f8af"
      },
      "execution_count": 76,
      "outputs": [
        {
          "output_type": "stream",
          "name": "stdout",
          "text": [
            "Soluciones incorrectas\n"
          ]
        }
      ]
    },
    {
      "cell_type": "code",
      "source": [
        "#3.3)\n",
        "import math\n",
        "def ForGeneral(a, b, c):\n",
        "  if a == 0:\n",
        "    print(\"Error, la ecuación no es cuadrática\")                             #Si a es 0, significa que el problema ni siquiera nos interesa, si es así, para el código e imprime eso.\n",
        "  elif ((b ** 2) - 4*a*c) < 0:\n",
        "    print(\"Las soluciones no pertenecen al conjunto de los números reales\")  #Condición particular para las ecuaciones cuadráticas.\n",
        "  elif ((b ** 2) - 4*a*c) >= 0:\n",
        "     print ((-b + math.sqrt((b ** 2) - 4*a*c))/(2*a))\n",
        "     return ((-b - math.sqrt((b ** 2) - 4*a*c))/(2*a))\n",
        "\n",
        "ForGeneral(10, 2, 0)"
      ],
      "metadata": {
        "colab": {
          "base_uri": "https://localhost:8080/"
        },
        "id": "ekFBn0p7tG0T",
        "outputId": "d6f7b0c8-097c-4c70-eea4-881715b24d94"
      },
      "execution_count": 66,
      "outputs": [
        {
          "output_type": "stream",
          "name": "stdout",
          "text": [
            "0.0\n"
          ]
        },
        {
          "output_type": "execute_result",
          "data": {
            "text/plain": [
              "-0.2"
            ]
          },
          "metadata": {},
          "execution_count": 66
        }
      ]
    },
    {
      "cell_type": "code",
      "source": [
        "# **4)** En la ecuación que modela el movimiento en caída libre queremos que $y(t)=0$, también que $v=0$, ya que no se lanza el objeto con ninguna velocidad, simplemente se le deja caer. <br>\n",
        "#Así,\n",
        "#$$y(t) = H+vt- \\frac{gt^2}{2}$$\n",
        "#$$H = y(t) - vt + \\frac{gt^2}{2}$$\n",
        "#$$H = \\frac{gt^2}{2} - vt$$\n",
        "#$$H = 4.9t^2$$"
      ],
      "metadata": {
        "id": "E8pIEujaXeLk"
      },
      "execution_count": null,
      "outputs": []
    },
    {
      "cell_type": "markdown",
      "source": [
        "**4)** En la ecuación que modela el movimiento en caída libre queremos que $y(t)=0$, también que $v=0$, ya que no se lanza el objeto con ninguna velocidad, simplemente se le deja caer. <br>\n",
        "Así, <br>\n",
        "$$y(t) = H+vt- \\frac{gt^2}{2}$$\n",
        "$$H = y(t) - vt + \\frac{gt^2}{2}$$\n",
        "$$H = \\frac{gt^2}{2} - vt$$\n",
        "$$H = 4.9t^2$$\n"
      ],
      "metadata": {
        "id": "oUX-f912aF7h"
      }
    },
    {
      "cell_type": "code",
      "source": [
        "#La altura en función de t minutos es:\n",
        "import math\n",
        "def AlturaMinutos(t):\n",
        "  return 4.9*((t*60) ** 2)\n",
        "\n",
        "#La altura en función de t segundos es:\n",
        "import math\n",
        "def AlturaSegundos(t):\n",
        "  return 4.9*((t) ** 2)\n",
        "\n",
        "AlturaSegundos(3.37)"
      ],
      "metadata": {
        "colab": {
          "base_uri": "https://localhost:8080/"
        },
        "id": "EMHLRlbPamAt",
        "outputId": "0db607bf-c2ab-4789-84e5-61eb191fd0dd"
      },
      "execution_count": 86,
      "outputs": [
        {
          "output_type": "execute_result",
          "data": {
            "text/plain": [
              "55.64881000000001"
            ]
          },
          "metadata": {},
          "execution_count": 86
        }
      ]
    },
    {
      "cell_type": "code",
      "source": [
        "#5\n",
        "Lista = list(range(100))\n",
        "\n",
        "print(Lista[-10:])\n",
        "\n",
        "print(Lista[:11])\n",
        "\n",
        "print(Lista[60:76])\n",
        "\n",
        "print(Lista[50])"
      ],
      "metadata": {
        "id": "uu-HBUDdcYup",
        "outputId": "51ff44eb-26c1-4ee8-c6ec-80cc1d98758c",
        "colab": {
          "base_uri": "https://localhost:8080/"
        }
      },
      "execution_count": 97,
      "outputs": [
        {
          "output_type": "stream",
          "name": "stdout",
          "text": [
            "[90, 91, 92, 93, 94, 95, 96, 97, 98, 99]\n",
            "[0, 1, 2, 3, 4, 5, 6, 7, 8, 9, 10]\n",
            "[60, 61, 62, 63, 64, 65, 66, 67, 68, 69, 70, 71, 72, 73, 74, 75]\n",
            "50\n"
          ]
        }
      ]
    }
  ]
}